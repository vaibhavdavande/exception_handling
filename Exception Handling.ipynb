{
 "cells": [
  {
   "cell_type": "code",
   "execution_count": 1,
   "metadata": {},
   "outputs": [
    {
     "name": "stdout",
     "output_type": "stream",
     "text": [
      "unsupported operand type(s) for /: 'int' and 'str'\n"
     ]
    }
   ],
   "source": [
    "#Exception Handling\n",
    "try:\n",
    "    #print(10/e)#name error\n",
    "    #print(10/0)#division by zero\n",
    "    print(10/'2')#type error\n",
    "except NameError as msg:\n",
    "    print('exception is there name error',msg)\n",
    "except ZeroDivisionError as msg:\n",
    "    print(msg)\n",
    "except TypeError as msg:\n",
    "    print(msg)\n",
    "except:\n",
    "    print('Default exception')"
   ]
  },
  {
   "cell_type": "code",
   "execution_count": 2,
   "metadata": {},
   "outputs": [
    {
     "name": "stdout",
     "output_type": "stream",
     "text": [
      "exception is there name error name 'e' is not defined\n"
     ]
    }
   ],
   "source": [
    "try:\n",
    "    print(10/e)#name error\n",
    "    #print(10/0)#division by zero\n",
    "    #print(10/'2')#type error\n",
    "except NameError as msg:\n",
    "    print('exception is there name error',msg)\n",
    "except ZeroDivisionError as msg:\n",
    "    print(msg)\n",
    "except TypeError as msg:\n",
    "    print(msg)\n",
    "except:\n",
    "    print('Default exception')"
   ]
  },
  {
   "cell_type": "code",
   "execution_count": 3,
   "metadata": {},
   "outputs": [
    {
     "name": "stdout",
     "output_type": "stream",
     "text": [
      "division by zero\n"
     ]
    }
   ],
   "source": [
    "try:\n",
    "    #print(10/e)#name error\n",
    "    print(10/0)#division by zero\n",
    "    #print(10/'2')#type error\n",
    "except NameError as msg:\n",
    "    print('exception is there name error',msg)\n",
    "except ZeroDivisionError as msg:\n",
    "    print(msg)\n",
    "except TypeError as msg:\n",
    "    print(msg)\n",
    "except:\n",
    "    print('Default exception')"
   ]
  },
  {
   "cell_type": "code",
   "execution_count": null,
   "metadata": {},
   "outputs": [],
   "source": []
  }
 ],
 "metadata": {
  "kernelspec": {
   "display_name": "Python 3",
   "language": "python",
   "name": "python3"
  },
  "language_info": {
   "codemirror_mode": {
    "name": "ipython",
    "version": 3
   },
   "file_extension": ".py",
   "mimetype": "text/x-python",
   "name": "python",
   "nbconvert_exporter": "python",
   "pygments_lexer": "ipython3",
   "version": "3.7.4"
  }
 },
 "nbformat": 4,
 "nbformat_minor": 2
}
